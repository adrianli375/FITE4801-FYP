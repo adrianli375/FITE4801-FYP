{
 "cells": [
  {
   "cell_type": "markdown",
   "id": "8dbe9186-9fb0-4876-a3e8-fbcc62c1362d",
   "metadata": {},
   "source": [
    "# Imports"
   ]
  },
  {
   "cell_type": "code",
   "execution_count": 1,
   "id": "0b54f9f6-5662-4d54-b1e1-dcc91d66f86d",
   "metadata": {},
   "outputs": [],
   "source": [
    "import matplotlib.pyplot as plt\n",
    "from sklearn.linear_model import Ridge\n",
    "import yfinance as yf"
   ]
  },
  {
   "cell_type": "markdown",
   "id": "04aca639-2bea-4c07-bccb-1a9c215666d5",
   "metadata": {},
   "source": [
    "## Get stock data"
   ]
  },
  {
   "cell_type": "code",
   "execution_count": 2,
   "id": "f1ecfbff-62dd-4a89-b5ed-845b7cedd4ca",
   "metadata": {},
   "outputs": [
    {
     "name": "stdout",
     "output_type": "stream",
     "text": [
      "[*********************100%***********************]  1 of 1 completed\n"
     ]
    },
    {
     "data": {
      "text/html": [
       "<div>\n",
       "<style scoped>\n",
       "    .dataframe tbody tr th:only-of-type {\n",
       "        vertical-align: middle;\n",
       "    }\n",
       "\n",
       "    .dataframe tbody tr th {\n",
       "        vertical-align: top;\n",
       "    }\n",
       "\n",
       "    .dataframe thead th {\n",
       "        text-align: right;\n",
       "    }\n",
       "</style>\n",
       "<table border=\"1\" class=\"dataframe\">\n",
       "  <thead>\n",
       "    <tr style=\"text-align: right;\">\n",
       "      <th></th>\n",
       "      <th>Open</th>\n",
       "      <th>High</th>\n",
       "      <th>Low</th>\n",
       "      <th>Close</th>\n",
       "      <th>Adj Close</th>\n",
       "      <th>Volume</th>\n",
       "    </tr>\n",
       "    <tr>\n",
       "      <th>Date</th>\n",
       "      <th></th>\n",
       "      <th></th>\n",
       "      <th></th>\n",
       "      <th></th>\n",
       "      <th></th>\n",
       "      <th></th>\n",
       "    </tr>\n",
       "  </thead>\n",
       "  <tbody>\n",
       "    <tr>\n",
       "      <th>2018-01-02</th>\n",
       "      <td>267.839996</td>\n",
       "      <td>268.809998</td>\n",
       "      <td>267.399994</td>\n",
       "      <td>268.769989</td>\n",
       "      <td>245.828461</td>\n",
       "      <td>86655700</td>\n",
       "    </tr>\n",
       "    <tr>\n",
       "      <th>2018-01-03</th>\n",
       "      <td>268.959991</td>\n",
       "      <td>270.640015</td>\n",
       "      <td>268.959991</td>\n",
       "      <td>270.470001</td>\n",
       "      <td>247.383331</td>\n",
       "      <td>90070400</td>\n",
       "    </tr>\n",
       "    <tr>\n",
       "      <th>2018-01-04</th>\n",
       "      <td>271.200012</td>\n",
       "      <td>272.160004</td>\n",
       "      <td>270.540009</td>\n",
       "      <td>271.609985</td>\n",
       "      <td>248.425995</td>\n",
       "      <td>80636400</td>\n",
       "    </tr>\n",
       "    <tr>\n",
       "      <th>2018-01-05</th>\n",
       "      <td>272.510010</td>\n",
       "      <td>273.559998</td>\n",
       "      <td>271.950012</td>\n",
       "      <td>273.420013</td>\n",
       "      <td>250.081528</td>\n",
       "      <td>83524000</td>\n",
       "    </tr>\n",
       "    <tr>\n",
       "      <th>2018-01-08</th>\n",
       "      <td>273.309998</td>\n",
       "      <td>274.100006</td>\n",
       "      <td>272.980011</td>\n",
       "      <td>273.920013</td>\n",
       "      <td>250.538818</td>\n",
       "      <td>57319200</td>\n",
       "    </tr>\n",
       "  </tbody>\n",
       "</table>\n",
       "</div>"
      ],
      "text/plain": [
       "                  Open        High         Low       Close   Adj Close  \\\n",
       "Date                                                                     \n",
       "2018-01-02  267.839996  268.809998  267.399994  268.769989  245.828461   \n",
       "2018-01-03  268.959991  270.640015  268.959991  270.470001  247.383331   \n",
       "2018-01-04  271.200012  272.160004  270.540009  271.609985  248.425995   \n",
       "2018-01-05  272.510010  273.559998  271.950012  273.420013  250.081528   \n",
       "2018-01-08  273.309998  274.100006  272.980011  273.920013  250.538818   \n",
       "\n",
       "              Volume  \n",
       "Date                  \n",
       "2018-01-02  86655700  \n",
       "2018-01-03  90070400  \n",
       "2018-01-04  80636400  \n",
       "2018-01-05  83524000  \n",
       "2018-01-08  57319200  "
      ]
     },
     "execution_count": 2,
     "metadata": {},
     "output_type": "execute_result"
    }
   ],
   "source": [
    "ticker = 'SPY'\n",
    "stock_df = yf.download('SPY', start='2018-01-01')\n",
    "stock_df.head()"
   ]
  },
  {
   "cell_type": "markdown",
   "id": "a95c0756-0b20-4524-8e20-3e39d45d1748",
   "metadata": {},
   "source": [
    "## Make EWM column"
   ]
  },
  {
   "cell_type": "code",
   "execution_count": 3,
   "id": "2699c949-be7b-4af3-92fb-df2dad776006",
   "metadata": {},
   "outputs": [],
   "source": [
    "def get_ewm_col(alpha: float=0.9): # higher alpha, less weight given to previous smoothed value and larger weight given to recent observed value\n",
    "    stock_df['EWM'] = stock_df['Adj Close'].ewm(alpha=alpha).mean()"
   ]
  },
  {
   "cell_type": "code",
   "execution_count": 4,
   "id": "341b7d05-029f-4627-b18b-ac8fd435e309",
   "metadata": {},
   "outputs": [
    {
     "data": {
      "text/html": [
       "<div>\n",
       "<style scoped>\n",
       "    .dataframe tbody tr th:only-of-type {\n",
       "        vertical-align: middle;\n",
       "    }\n",
       "\n",
       "    .dataframe tbody tr th {\n",
       "        vertical-align: top;\n",
       "    }\n",
       "\n",
       "    .dataframe thead th {\n",
       "        text-align: right;\n",
       "    }\n",
       "</style>\n",
       "<table border=\"1\" class=\"dataframe\">\n",
       "  <thead>\n",
       "    <tr style=\"text-align: right;\">\n",
       "      <th></th>\n",
       "      <th>Open</th>\n",
       "      <th>High</th>\n",
       "      <th>Low</th>\n",
       "      <th>Close</th>\n",
       "      <th>Adj Close</th>\n",
       "      <th>Volume</th>\n",
       "      <th>EWM</th>\n",
       "    </tr>\n",
       "    <tr>\n",
       "      <th>Date</th>\n",
       "      <th></th>\n",
       "      <th></th>\n",
       "      <th></th>\n",
       "      <th></th>\n",
       "      <th></th>\n",
       "      <th></th>\n",
       "      <th></th>\n",
       "    </tr>\n",
       "  </thead>\n",
       "  <tbody>\n",
       "    <tr>\n",
       "      <th>2018-01-02</th>\n",
       "      <td>267.839996</td>\n",
       "      <td>268.809998</td>\n",
       "      <td>267.399994</td>\n",
       "      <td>268.769989</td>\n",
       "      <td>245.828461</td>\n",
       "      <td>86655700</td>\n",
       "      <td>245.828461</td>\n",
       "    </tr>\n",
       "    <tr>\n",
       "      <th>2018-01-03</th>\n",
       "      <td>268.959991</td>\n",
       "      <td>270.640015</td>\n",
       "      <td>268.959991</td>\n",
       "      <td>270.470001</td>\n",
       "      <td>247.383331</td>\n",
       "      <td>90070400</td>\n",
       "      <td>247.241979</td>\n",
       "    </tr>\n",
       "    <tr>\n",
       "      <th>2018-01-04</th>\n",
       "      <td>271.200012</td>\n",
       "      <td>272.160004</td>\n",
       "      <td>270.540009</td>\n",
       "      <td>271.609985</td>\n",
       "      <td>248.425995</td>\n",
       "      <td>80636400</td>\n",
       "      <td>248.308660</td>\n",
       "    </tr>\n",
       "    <tr>\n",
       "      <th>2018-01-05</th>\n",
       "      <td>272.510010</td>\n",
       "      <td>273.559998</td>\n",
       "      <td>271.950012</td>\n",
       "      <td>273.420013</td>\n",
       "      <td>250.081528</td>\n",
       "      <td>83524000</td>\n",
       "      <td>249.904401</td>\n",
       "    </tr>\n",
       "    <tr>\n",
       "      <th>2018-01-08</th>\n",
       "      <td>273.309998</td>\n",
       "      <td>274.100006</td>\n",
       "      <td>272.980011</td>\n",
       "      <td>273.920013</td>\n",
       "      <td>250.538818</td>\n",
       "      <td>57319200</td>\n",
       "      <td>250.475382</td>\n",
       "    </tr>\n",
       "  </tbody>\n",
       "</table>\n",
       "</div>"
      ],
      "text/plain": [
       "                  Open        High         Low       Close   Adj Close  \\\n",
       "Date                                                                     \n",
       "2018-01-02  267.839996  268.809998  267.399994  268.769989  245.828461   \n",
       "2018-01-03  268.959991  270.640015  268.959991  270.470001  247.383331   \n",
       "2018-01-04  271.200012  272.160004  270.540009  271.609985  248.425995   \n",
       "2018-01-05  272.510010  273.559998  271.950012  273.420013  250.081528   \n",
       "2018-01-08  273.309998  274.100006  272.980011  273.920013  250.538818   \n",
       "\n",
       "              Volume         EWM  \n",
       "Date                              \n",
       "2018-01-02  86655700  245.828461  \n",
       "2018-01-03  90070400  247.241979  \n",
       "2018-01-04  80636400  248.308660  \n",
       "2018-01-05  83524000  249.904401  \n",
       "2018-01-08  57319200  250.475382  "
      ]
     },
     "execution_count": 4,
     "metadata": {},
     "output_type": "execute_result"
    }
   ],
   "source": [
    "get_ewm_col()\n",
    "stock_df.head()"
   ]
  },
  {
   "cell_type": "markdown",
   "id": "2ccc4539-c4ec-4472-a26e-b55e75e9226b",
   "metadata": {},
   "source": [
    "## Try to regress change in EWM on change in volume"
   ]
  },
  {
   "cell_type": "code",
   "execution_count": 5,
   "id": "da99d105-71d2-4ae2-9a6c-d5e7f26f0c25",
   "metadata": {},
   "outputs": [
    {
     "name": "stdout",
     "output_type": "stream",
     "text": [
      "0.1059883205251595\n"
     ]
    },
    {
     "data": {
      "image/png": "[encoded data removed]",
      "text/plain": [
       "<Figure size 640x480 with 1 Axes>"
      ]
     },
     "metadata": {},
     "output_type": "display_data"
    }
   ],
   "source": [
    "x = stock_df['Volume'].diff()[1:].values.reshape(-1, 1)\n",
    "y = stock_df['EWM'].diff()[1:].values.reshape(-1, 1)\n",
    "\n",
    "lm = Ridge(alpha=0.001)\n",
    "lm.fit(x, y)\n",
    "print(lm.score(x, y))\n",
    "\n",
    "beta_0 = lm.intercept_[0]\n",
    "beta_1 = lm.coef_[0][0]\n",
    "assert isinstance(beta_0, float) and isinstance(beta_1, float)\n",
    "\n",
    "plt.scatter(x, y)\n",
    "plt.plot(x, beta_0 + beta_1 * x, color='red')\n",
    "plt.show()"
   ]
  },
  {
   "cell_type": "code",
   "execution_count": null,
   "id": "3ee9e34c-d403-4ff2-82b5-3b7322d8fea6",
   "metadata": {},
   "outputs": [],
   "source": []
  }
 ],
 "metadata": {
  "kernelspec": {
   "display_name": "Python [conda env:fyp]",
   "language": "python",
   "name": "conda-env-fyp-py"
  },
  "language_info": {
   "codemirror_mode": {
    "name": "ipython",
    "version": 3
   },
   "file_extension": ".py",
   "mimetype": "text/x-python",
   "name": "python",
   "nbconvert_exporter": "python",
   "pygments_lexer": "ipython3",
   "version": "3.10.11"
  }
 },
 "nbformat": 4,
 "nbformat_minor": 5
}
